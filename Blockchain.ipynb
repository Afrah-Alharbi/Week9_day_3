{
  "cells": [
    {
      "cell_type": "code",
      "execution_count": 1,
      "metadata": {
        "id": "Z-AJyKFZYbYk"
      },
      "outputs": [],
      "source": [
        "import json\n",
        "import time\n",
        "import hashlib"
      ]
    },
    {
      "cell_type": "code",
      "execution_count": 2,
      "metadata": {
        "id": "C2A7xBtVYov5"
      },
      "outputs": [],
      "source": [
        "class Block():\n",
        "  def __init__(self, \n",
        "                 index:int=0,\n",
        "                 transactions:list=[],\n",
        "                 timestamp:int=0,\n",
        "                 cur_hash:str='', \n",
        "                 pervious_hash:str='',\n",
        "                 nonce:int=0):\n",
        "   self.index:int=index\n",
        "   self.transactions:list=transactions\n",
        "   self.timestamp:int=timestamp\n",
        "   self.hash:str=cur_hash\n",
        "   self.pervious_hash:str=pervious_hash\n",
        "   self.nonce:int= nonce\n",
        "  def compute_hash(self):\n",
        "        block_string = json.dumps(self.__dict__, sort_keys=True)\n",
        "        return hashlib.sha256(block_string.encode()).hexdigest()"
      ]
    },
    {
      "cell_type": "code",
      "execution_count": 6,
      "metadata": {
        "colab": {
          "base_uri": "https://localhost:8080/",
          "height": 35
        },
        "id": "wnVzyFvva-vB",
        "outputId": "b7224737-49a7-4974-a230-cc9ff93907fb"
      },
      "outputs": [
        {
          "data": {
            "application/vnd.google.colaboratory.intrinsic+json": {
              "type": "string"
            },
            "text/plain": [
              "'de7f7ae7d14ddffb60c4735c0dc374f89a9ce35f46e77f145d883906ae10e98d'"
            ]
          },
          "execution_count": 6,
          "metadata": {},
          "output_type": "execute_result"
        }
      ],
      "source": [
        "b=Block()\n",
        "b.compute_hash()"
      ]
    },
    {
      "cell_type": "code",
      "execution_count": 4,
      "metadata": {
        "id": "4oHi0YHyYccj"
      },
      "outputs": [],
      "source": [
        "class Blockchain:\n",
        "\n",
        "    def __init__(self):\n",
        "        self.unconfirmed_transactions:List[dict] = []\n",
        "        self.difficulty = 2\n",
        "        self.chain = []\n",
        "        self.create_genesis_block()\n",
        "\n",
        "    def create_genesis_block(self):\n",
        "        genesis_block = Block(0, [], time.time(), \"0\")\n",
        "        genesis_block.hash = genesis_block.compute_hash()\n",
        "        self.chain.append(genesis_block)\n",
        "\n",
        "    # todo define get_last_block(self) -> Block, hint: consider an index to\n",
        "    # the last element in your chain property.\n",
        "    #\n",
        "    def get_last_block(self)-> Block:\n",
        "        return self.chain[-1]\n",
        "\n",
        "    # todo define proof_of_work(self, block:Block) -> str,\n",
        "    # hint consider something similar to:\n",
        "    # computed_hash = how do we get the hash from a Block object?\n",
        "    # while not computed_hash.startswith('0' * Blockchain.difficulty):\n",
        "    #         block.nonce += 1\n",
        "    #         computed_hash = block.compute_hash()\n",
        "    # Don't forget to return the hash.\n",
        "    #\n",
        "\n",
        "    def proof_of_work(self, block):\n",
        "        computed_hash = block.compute_hash()\n",
        "        while not computed_hash.startswith(\"0\" * self.difficulty):\n",
        "            block.nonce += 1\n",
        "            computed_hash = block.compute_hash()\n",
        "        return computed_hash\n",
        "\n",
        "    # todo define is_valid_proof(self, block:Block, block_hash:str) -> bool\n",
        "    # hint, we want to return true if block_hash.startswith('0' * Blockchain.difficulty)\n",
        "    # AND if block_hash is in fact the hash of our block (maybe use block.compute_hash())\n",
        "    #\n",
        "\n",
        "    def is_valid_proof(self, block, block_hash:str)->bool:\n",
        "        return (block_hash.startswith(\"0\" * self.difficulty)) and (block_hash == block.compute_hash())\n",
        "\n",
        "    # todo define add_block(self, block:Block, proof:str) -> bool\n",
        "    # hints, we probably want to get the previous hash from get_last_block()\n",
        "    # Check if the previous hash matches the previous hash in the block argument.\n",
        "    # Make use of is_valid_proof for block and proof to check if someone is trying to do something sneaky.\n",
        "    # for both of the above, let's return False early and return control the calling function if the block is not valid.\n",
        "    # If we make it this far, we're in the clear. So let's add the hash to our block, append it to the chain,\n",
        "    # and return True.\n",
        "    #\n",
        "\n",
        "    def add_block(self, block:Block, proof:str)->bool:\n",
        "\n",
        "        last_block = self.get_last_block()\n",
        "        last_block.hash\n",
        "\n",
        "        if last_block.hash != block.pervious_hash:\n",
        "            return False\n",
        "\n",
        "        if not self.is_valid_proof(block, proof):\n",
        "            return False\n",
        "\n",
        "        block.hash = proof\n",
        "        self.chain.append(block)\n",
        "\n",
        "        return True\n",
        "\n",
        "    # todo, define add_new_transaction(self, transaction:dict) -> None\n",
        "    # Hint how do we append to a list? How do we do this for a property of our object (self). Ease one line function.    \n",
        "    #\n",
        "\n",
        "    def add_new_transaction(self, transaction:dict) -> None:\n",
        "        self.unconfirmed_transactions.append(transaction)\n",
        "\n",
        "    # todo, define mine(self) -> int:\n",
        "    # Hints: do we need to continue if our mempool is empty? Maybe return -1 if so. \n",
        "    # consider retrieving the last block to a local variable make life easy. \n",
        "    # Let's make sure we use our Block constructor to create a new block with all the transactions we want to mine \n",
        "    # (all of them are fine)\n",
        "    # hint: Block(index=last_block.index + 1,\n",
        "    #                    transactions=self.unconfirmed_transactions,\n",
        "    #                    timestamp=time.time(),\n",
        "    #                    previous_hash=last_block.hash)\n",
        "    #\n",
        "\n",
        "    def mine(self)->int:\n",
        "        if len(self.unconfirmed_transactions) < 1:\n",
        "            return -1\n",
        "\n",
        "        last_block = self.get_last_block()\n",
        "        self.unconfirmed_transactions.append(tx_1)\n",
        "        new_block = Block(index=last_block.index + 1,\n",
        "                          transactions=self.unconfirmed_transactions,\n",
        "                          timestamp=int(time.time()),\n",
        "                           pervious_hash=last_block.hash)\n",
        "       \n",
        "    # Finally, let's be sure to use our handy proof_of_work function, add_block function, and to remember to reset our\n",
        "    # unconfirmed_transactions (our mem-pool), before returning our new block index;\n",
        "\n",
        "        proof=self.proof_of_work(new_block)    \n",
        "        self.add_block(new_block,proof)\n",
        "        self.unconfirmed_transactions=[]\n",
        "        return new_block.index"
      ]
    },
    {
      "cell_type": "code",
      "execution_count": 7,
      "metadata": {
        "colab": {
          "base_uri": "https://localhost:8080/"
        },
        "id": "QAfmUHI5cVz5",
        "outputId": "f98429ac-ad08-4dc8-cd72-c0053eaef1b1"
      },
      "outputs": [
        {
          "data": {
            "text/plain": [
              "False"
            ]
          },
          "execution_count": 7,
          "metadata": {},
          "output_type": "execute_result"
        }
      ],
      "source": [
        "b.compute_hash().startswith(\"0\" *2)"
      ]
    },
    {
      "cell_type": "code",
      "execution_count": 8,
      "metadata": {
        "id": "hGGP63q_Y7Q5"
      },
      "outputs": [],
      "source": [
        "tx_1 = {\n",
        "   \"addr_from\": \"3J98t1WpEZ73CNmQviecrnyiWrnqRhWNLy\",\n",
        "   \"addr_to\": \"1BvBMSEYstWetqTFn5Au4m4GFg7xJaNVN2\",   \n",
        "   \"amount\": 99.00\n",
        "}"
      ]
    },
    {
      "cell_type": "code",
      "execution_count": 9,
      "metadata": {
        "colab": {
          "base_uri": "https://localhost:8080/"
        },
        "id": "zjui0jWXY-Q6",
        "outputId": "b884f879-8081-445c-f182-7b01f12d79b4"
      },
      "outputs": [
        {
          "data": {
            "text/plain": [
              "[None]"
            ]
          },
          "execution_count": 9,
          "metadata": {},
          "output_type": "execute_result"
        }
      ],
      "source": [
        "bc=Blockchain()\n",
        "[bc.add_new_transaction(tx)for tx in [tx_1]]"
      ]
    },
    {
      "cell_type": "code",
      "execution_count": 10,
      "metadata": {
        "colab": {
          "base_uri": "https://localhost:8080/"
        },
        "id": "dQnm_KJDdN2F",
        "outputId": "2eefb4ed-cce0-426a-9fa9-e82ba0a29674"
      },
      "outputs": [
        {
          "data": {
            "text/plain": [
              "1"
            ]
          },
          "execution_count": 10,
          "metadata": {},
          "output_type": "execute_result"
        }
      ],
      "source": [
        "bc.mine()"
      ]
    },
    {
      "cell_type": "code",
      "execution_count": null,
      "metadata": {
        "id": "pzdQKlZYbXUY"
      },
      "outputs": [],
      "source": [
        "bc.unconfirmed_transactions"
      ]
    },
    {
      "cell_type": "code",
      "execution_count": 13,
      "metadata": {
        "colab": {
          "base_uri": "https://localhost:8080/"
        },
        "id": "q-TgcknHbyM0",
        "outputId": "339731d1-34e3-4b96-9033-49a2395d3fcf"
      },
      "outputs": [
        {
          "data": {
            "text/plain": [
              "{'hash': '00b837d307e78bd2b08565e0b5a31e5817ca1a04ce22cf2797989e129ffa53bb',\n",
              " 'index': 1,\n",
              " 'nonce': 358,\n",
              " 'pervious_hash': '61e35057e337a544cbd15cf7edaf4fe98e1791e8f39e39318fc2cc3f9d3fbd5b',\n",
              " 'timestamp': 1639057890,\n",
              " 'transactions': [{'addr_from': '3J98t1WpEZ73CNmQviecrnyiWrnqRhWNLy',\n",
              "   'addr_to': '1BvBMSEYstWetqTFn5Au4m4GFg7xJaNVN2',\n",
              "   'amount': 99.0},\n",
              "  {'addr_from': '3J98t1WpEZ73CNmQviecrnyiWrnqRhWNLy',\n",
              "   'addr_to': '1BvBMSEYstWetqTFn5Au4m4GFg7xJaNVN2',\n",
              "   'amount': 99.0}]}"
            ]
          },
          "execution_count": 13,
          "metadata": {},
          "output_type": "execute_result"
        }
      ],
      "source": [
        "bc.get_last_block().__dict__"
      ]
    }
  ],
  "metadata": {
    "colab": {
      "name": "Blockchain.ipynb",
      "provenance": []
    },
    "kernelspec": {
      "display_name": "Python 3",
      "name": "python3"
    },
    "language_info": {
      "name": "python"
    }
  },
  "nbformat": 4,
  "nbformat_minor": 0
}
